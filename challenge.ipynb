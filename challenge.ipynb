{
 "cells": [
  {
   "cell_type": "markdown",
   "id": "87157f37",
   "metadata": {},
   "source": [
    "Import libraries and define constants"
   ]
  },
  {
   "cell_type": "code",
   "execution_count": 4,
   "id": "e6b914ca",
   "metadata": {},
   "outputs": [],
   "source": [
    "import os\n",
    "import pandas as pd\n",
    "import tensorflow as tf\n",
    "from tensorflow.keras.preprocessing.image import ImageDataGenerator\n",
    "from tensorflow.keras.applications import MobileNetV2\n",
    "from tensorflow.keras import layers, models\n",
    "from sklearn.metrics import accuracy_score\n",
    "import numpy as np\n",
    "\n",
    "IMG_SIZE = (224, 224)\n",
    "BATCH_SIZE = 32"
   ]
  },
  {
   "cell_type": "markdown",
   "id": "414c8954",
   "metadata": {},
   "source": [
    "Load and preprocess CSV data"
   ]
  },
  {
   "cell_type": "code",
   "execution_count": null,
   "id": "3918a5ab",
   "metadata": {},
   "outputs": [],
   "source": [
    "\n",
    "train_df = pd.read_csv(\"data/train.csv\")\n",
    "val_df = pd.read_csv(\"data/validation.csv\")\n",
    "test_df = pd.read_csv(\"data/test.csv\")\n",
    "test_df['label'] = 0  # Adding label column\n",
    "\n",
    "# Path instead of id\n",
    "train_df[\"image_id\"] = train_df[\"image_id\"].apply(lambda x: os.path.join(\"data/train\", f\"{x}.png\"))\n",
    "val_df[\"image_id\"] = val_df[\"image_id\"].apply(lambda x: os.path.join(\"data/validation\", f\"{x}.png\"))\n",
    "test_df[\"image_id\"] = test_df[\"image_id\"].apply(lambda x: os.path.join(\"data/test\", f\"{x}.png\"))\n",
    "\n",
    "# Convert labels to string\n",
    "train_df['label'] = train_df['label'].astype(str)\n",
    "val_df['label'] = val_df['label'].astype(str)\n"
   ]
  },
  {
   "cell_type": "markdown",
   "id": "7950a071",
   "metadata": {},
   "source": [
    "Set up image data generators"
   ]
  },
  {
   "cell_type": "code",
   "execution_count": null,
   "id": "13f75e29",
   "metadata": {},
   "outputs": [
    {
     "name": "stdout",
     "output_type": "stream",
     "text": [
      "Found 12500 validated image filenames belonging to 5 classes.\n",
      "Found 1250 validated image filenames belonging to 5 classes.\n",
      "Found 6500 validated image filenames.\n"
     ]
    }
   ],
   "source": [
    "# normalizes the pixel values from [0, 255] to [0, 1], which helps neural networks train better.\n",
    "train_gen = ImageDataGenerator(rescale=1./255, horizontal_flip=True)\n",
    "val_gen = ImageDataGenerator(rescale=1./255)\n",
    "test_gen = ImageDataGenerator(rescale=1./255)\n",
    "\n",
    "train_data = train_gen.flow_from_dataframe(\n",
    "    train_df, x_col=\"image_id\", y_col=\"label\",\n",
    "    target_size=IMG_SIZE, batch_size=BATCH_SIZE, class_mode=\"sparse\")\n",
    "\n",
    "val_data = val_gen.flow_from_dataframe(\n",
    "    val_df, x_col=\"image_id\", y_col=\"label\",\n",
    "    target_size=IMG_SIZE, batch_size=BATCH_SIZE, class_mode=\"sparse\")\n",
    "\n",
    "test_data = test_gen.flow_from_dataframe(\n",
    "    test_df, x_col=\"image_id\", y_col=\"label\",\n",
    "    target_size=IMG_SIZE, batch_size=BATCH_SIZE,\n",
    "    class_mode=None, shuffle=False)\n"
   ]
  },
  {
   "cell_type": "markdown",
   "id": "6d184142",
   "metadata": {},
   "source": [
    "Build the model using MobileNetV2 base and compile"
   ]
  },
  {
   "cell_type": "code",
   "execution_count": null,
   "id": "83e8d06c",
   "metadata": {},
   "outputs": [
    {
     "name": "stdout",
     "output_type": "stream",
     "text": [
      "Downloading data from https://storage.googleapis.com/tensorflow/keras-applications/mobilenet_v2/mobilenet_v2_weights_tf_dim_ordering_tf_kernels_1.0_224_no_top.h5\n",
      "\u001b[1m9406464/9406464\u001b[0m \u001b[32m━━━━━━━━━━━━━━━━━━━━\u001b[0m\u001b[37m\u001b[0m \u001b[1m1s\u001b[0m 0us/step\n"
     ]
    }
   ],
   "source": [
    "\n",
    "# Model: MobileNetV2\n",
    "base_model = MobileNetV2(include_top=False, input_shape=(*IMG_SIZE, 3), weights='imagenet')\n",
    "base_model.trainable = False\n",
    "\n",
    "model = models.Sequential([\n",
    "    base_model,\n",
    "    layers.GlobalAveragePooling2D(),\n",
    "    layers.Dense(128, activation='relu'),\n",
    "    layers.Dropout(0.3),\n",
    "    layers.Dense(5, activation='softmax')\n",
    "])\n",
    "\n",
    "model.compile(optimizer='adam', loss='sparse_categorical_crossentropy', metrics=['accuracy'])"
   ]
  },
  {
   "cell_type": "markdown",
   "id": "f274acc4",
   "metadata": {},
   "source": [
    "Train the model"
   ]
  },
  {
   "cell_type": "code",
   "execution_count": null,
   "id": "f03f4da8",
   "metadata": {},
   "outputs": [
    {
     "name": "stderr",
     "output_type": "stream",
     "text": [
      "c:\\Users\\Agu\\AppData\\Local\\Programs\\Python\\Python312\\Lib\\site-packages\\keras\\src\\trainers\\data_adapters\\py_dataset_adapter.py:121: UserWarning: Your `PyDataset` class should call `super().__init__(**kwargs)` in its constructor. `**kwargs` can include `workers`, `use_multiprocessing`, `max_queue_size`. Do not pass these arguments to `fit()`, as they will be ignored.\n",
      "  self._warn_if_super_not_called()\n"
     ]
    },
    {
     "name": "stdout",
     "output_type": "stream",
     "text": [
      "Epoch 1/5\n",
      "\u001b[1m391/391\u001b[0m \u001b[32m━━━━━━━━━━━━━━━━━━━━\u001b[0m\u001b[37m\u001b[0m \u001b[1m329s\u001b[0m 833ms/step - accuracy: 0.5233 - loss: 1.1861 - val_accuracy: 0.7456 - val_loss: 0.6727\n",
      "Epoch 2/5\n",
      "\u001b[1m391/391\u001b[0m \u001b[32m━━━━━━━━━━━━━━━━━━━━\u001b[0m\u001b[37m\u001b[0m \u001b[1m208s\u001b[0m 532ms/step - accuracy: 0.7395 - loss: 0.6923 - val_accuracy: 0.7896 - val_loss: 0.5775\n",
      "Epoch 3/5\n",
      "\u001b[1m391/391\u001b[0m \u001b[32m━━━━━━━━━━━━━━━━━━━━\u001b[0m\u001b[37m\u001b[0m \u001b[1m209s\u001b[0m 534ms/step - accuracy: 0.7735 - loss: 0.5915 - val_accuracy: 0.7968 - val_loss: 0.5506\n",
      "Epoch 4/5\n",
      "\u001b[1m391/391\u001b[0m \u001b[32m━━━━━━━━━━━━━━━━━━━━\u001b[0m\u001b[37m\u001b[0m \u001b[1m212s\u001b[0m 541ms/step - accuracy: 0.8044 - loss: 0.5217 - val_accuracy: 0.8136 - val_loss: 0.5094\n",
      "Epoch 5/5\n",
      "\u001b[1m391/391\u001b[0m \u001b[32m━━━━━━━━━━━━━━━━━━━━\u001b[0m\u001b[37m\u001b[0m \u001b[1m212s\u001b[0m 542ms/step - accuracy: 0.8190 - loss: 0.4696 - val_accuracy: 0.8184 - val_loss: 0.5079\n"
     ]
    }
   ],
   "source": [
    "\n",
    "history = model.fit(train_data, epochs=5, validation_data=val_data)"
   ]
  },
  {
   "cell_type": "markdown",
   "id": "03043ed3",
   "metadata": {},
   "source": [
    "Make predictions on the test set and save predictions to submission file"
   ]
  },
  {
   "cell_type": "code",
   "execution_count": null,
   "id": "5cac610f",
   "metadata": {},
   "outputs": [
    {
     "name": "stdout",
     "output_type": "stream",
     "text": [
      "\u001b[1m204/204\u001b[0m \u001b[32m━━━━━━━━━━━━━━━━━━━━\u001b[0m\u001b[37m\u001b[0m \u001b[1m153s\u001b[0m 748ms/step\n",
      "✅ Fișierul 'submission.csv' a fost salvat.\n"
     ]
    }
   ],
   "source": [
    "\n",
    "pred_probs = model.predict(test_data)\n",
    "pred_labels = np.argmax(pred_probs, axis=1)\n",
    "\n",
    "submission = pd.DataFrame({\n",
    "    \"image_id\": test_df[\"image_id\"].apply(lambda x: os.path.splitext(os.path.basename(x))[0]),\n",
    "    \"label\": pred_labels\n",
    "})\n",
    "submission.to_csv(\"submission.csv\", index=False)\n",
    "print(\"✅ Fisierul 'submission.csv' a fost salvat.\")\n"
   ]
  },
  {
   "cell_type": "markdown",
   "id": "1acc47fd",
   "metadata": {},
   "source": [
    "Save the trained model and variables"
   ]
  },
  {
   "cell_type": "code",
   "execution_count": 11,
   "id": "f15d5f27",
   "metadata": {},
   "outputs": [
    {
     "name": "stderr",
     "output_type": "stream",
     "text": [
      "WARNING:absl:You are saving your model as an HDF5 file via `model.save()` or `keras.saving.save_model(model)`. This file format is considered legacy. We recommend using instead the native Keras format, e.g. `model.save('my_model.keras')` or `keras.saving.save_model(model, 'my_model.keras')`. \n"
     ]
    },
    {
     "name": "stdout",
     "output_type": "stream",
     "text": [
      "✅ Totul a fost salvat.\n"
     ]
    }
   ],
   "source": [
    "import pickle\n",
    "import json\n",
    "model.save(\"mobilenetv2_model.h5\")\n",
    "\n",
    "with open(\"project_data.pkl\", \"wb\") as f:\n",
    "    pickle.dump({\n",
    "        \"train_df\": train_df,\n",
    "        \"val_df\": val_df,\n",
    "        \"test_df\": test_df,\n",
    "        \"pred_labels\": pred_labels\n",
    "    }, f)\n",
    "\n",
    "with open(\"training_history.json\", \"w\") as f:\n",
    "    json.dump(history.history, f)\n",
    "\n",
    "print(\"✅ Totul a fost salvat.\")\n"
   ]
  }
 ],
 "metadata": {
  "kernelspec": {
   "display_name": "Python 3",
   "language": "python",
   "name": "python3"
  },
  "language_info": {
   "codemirror_mode": {
    "name": "ipython",
    "version": 3
   },
   "file_extension": ".py",
   "mimetype": "text/x-python",
   "name": "python",
   "nbconvert_exporter": "python",
   "pygments_lexer": "ipython3",
   "version": "3.12.0"
  }
 },
 "nbformat": 4,
 "nbformat_minor": 5
}
