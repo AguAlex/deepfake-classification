{
 "cells": [
  {
   "cell_type": "code",
   "execution_count": 4,
   "id": "c8eb07da",
   "metadata": {},
   "outputs": [],
   "source": [
    "import os\n",
    "import pandas as pd\n",
    "import numpy as np\n",
    "import tensorflow as tf\n",
    "from sklearn.neighbors import KNeighborsClassifier\n",
    "from sklearn.metrics import accuracy_score\n",
    "\n",
    "\n",
    "IMG_SIZE = (64, 64)\n"
   ]
  },
  {
   "cell_type": "code",
   "execution_count": 5,
   "id": "17ace246",
   "metadata": {},
   "outputs": [],
   "source": [
    "train_df = pd.read_csv(\"../data/train.csv\")\n",
    "val_df = pd.read_csv(\"../data/validation.csv\")\n",
    "test_df = pd.read_csv(\"../data/test.csv\")\n",
    "test_df[\"label\"] = 0\n",
    "\n",
    "train_df[\"image_path\"] = train_df[\"image_id\"].apply(lambda x: os.path.join(\"../data/train\", f\"{x}.png\"))\n",
    "val_df[\"image_path\"] = val_df[\"image_id\"].apply(lambda x: os.path.join(\"../data/validation\", f\"{x}.png\"))\n",
    "test_df[\"image_path\"] = test_df[\"image_id\"].apply(lambda x: os.path.join(\"../data/test\", f\"{x}.png\"))\n"
   ]
  },
  {
   "cell_type": "code",
   "execution_count": 6,
   "id": "2363bf3a",
   "metadata": {},
   "outputs": [],
   "source": [
    "def preprocess_image(path):\n",
    "    img = tf.io.read_file(path)\n",
    "    img = tf.image.decode_png(img, channels=3)\n",
    "    img = tf.image.resize(img, IMG_SIZE)\n",
    "    return img.numpy().flatten() / 255.0  # normalize\n",
    "\n",
    "X_train = np.array([preprocess_image(p) for p in train_df[\"image_path\"]])\n",
    "y_train = np.array(train_df[\"label\"])\n",
    "\n",
    "X_val = np.array([preprocess_image(p) for p in val_df[\"image_path\"]])\n",
    "y_val = np.array(val_df[\"label\"])\n",
    "\n",
    "X_test = np.array([preprocess_image(p) for p in test_df[\"image_path\"]])\n"
   ]
  },
  {
   "cell_type": "code",
   "execution_count": 7,
   "id": "4bdce441",
   "metadata": {},
   "outputs": [
    {
     "name": "stdout",
     "output_type": "stream",
     "text": [
      "Validation accuracy: 0.2976\n"
     ]
    }
   ],
   "source": [
    "knn = KNeighborsClassifier(n_neighbors=3)\n",
    "knn.fit(X_train, y_train)\n",
    "\n",
    "# Validation accuracy\n",
    "val_preds = knn.predict(X_val)\n",
    "acc = accuracy_score(y_val, val_preds)\n",
    "print(f\"Validation accuracy: {acc:.4f}\")\n"
   ]
  },
  {
   "cell_type": "code",
   "execution_count": 8,
   "id": "39ec9d60",
   "metadata": {},
   "outputs": [],
   "source": [
    "test_preds = knn.predict(X_test)\n",
    "\n",
    "submission = pd.DataFrame({\n",
    "    \"image_id\": test_df[\"image_path\"].apply(lambda x: os.path.splitext(os.path.basename(x))[0]),\n",
    "    \"label\": test_preds\n",
    "})\n",
    "\n",
    "submission.to_csv(\"submission_knn.csv\", index=False)\n"
   ]
  }
 ],
 "metadata": {
  "kernelspec": {
   "display_name": "Python 3",
   "language": "python",
   "name": "python3"
  },
  "language_info": {
   "codemirror_mode": {
    "name": "ipython",
    "version": 3
   },
   "file_extension": ".py",
   "mimetype": "text/x-python",
   "name": "python",
   "nbconvert_exporter": "python",
   "pygments_lexer": "ipython3",
   "version": "3.12.0"
  }
 },
 "nbformat": 4,
 "nbformat_minor": 5
}
