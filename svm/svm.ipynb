{
 "cells": [
  {
   "cell_type": "code",
   "execution_count": 1,
   "id": "9888eb74",
   "metadata": {},
   "outputs": [],
   "source": [
    "# Import libraries for data handling, image processing, and SVM classification\n",
    "import os\n",
    "import numpy as np\n",
    "import pandas as pd\n",
    "from sklearn.svm import SVC\n",
    "from sklearn.metrics import accuracy_score\n",
    "from PIL import Image\n"
   ]
  },
  {
   "cell_type": "code",
   "execution_count": 2,
   "id": "84296dd1",
   "metadata": {},
   "outputs": [],
   "source": [
    "# Define the target image size and a helper function to load and flatten images\n",
    "IMG_SIZE = (64, 64)  # Small size to reduce feature dimensionality\n",
    "\n",
    "def load_and_flatten(image_path):\n",
    "    img = Image.open(image_path).convert('RGB')  # Use grayscale with 'L' if needed\n",
    "    img = img.resize(IMG_SIZE)\n",
    "    arr = np.array(img)\n",
    "    return arr.flatten()\n"
   ]
  },
  {
   "cell_type": "code",
   "execution_count": 3,
   "id": "49a9efc9",
   "metadata": {},
   "outputs": [],
   "source": [
    "# Load CSV files and add full paths to image filenames\n",
    "train_df = pd.read_csv(\"../data/train.csv\")\n",
    "val_df = pd.read_csv(\"../data/validation.csv\")\n",
    "\n",
    "train_df[\"image_id\"] = train_df[\"image_id\"].apply(lambda x: os.path.join(\"../data/train\", f\"{x}.png\"))\n",
    "val_df[\"image_id\"] = val_df[\"image_id\"].apply(lambda x: os.path.join(\"../data/validation\", f\"{x}.png\"))\n"
   ]
  },
  {
   "cell_type": "code",
   "execution_count": 4,
   "id": "7e191802",
   "metadata": {},
   "outputs": [],
   "source": [
    "# Convert images to flattened numpy arrays (1D vectors per image)\n",
    "X_train = np.array([load_and_flatten(p) for p in train_df[\"image_id\"]])\n",
    "y_train = train_df[\"label\"].values\n",
    "\n",
    "X_val = np.array([load_and_flatten(p) for p in val_df[\"image_id\"]])\n",
    "y_val = val_df[\"label\"].values\n"
   ]
  },
  {
   "cell_type": "code",
   "execution_count": 5,
   "id": "478b564c",
   "metadata": {},
   "outputs": [
    {
     "name": "stdout",
     "output_type": "stream",
     "text": [
      "Validation Accuracy: 0.6304\n"
     ]
    }
   ],
   "source": [
    "# Train a linear SVM on the image vectors and evaluate on validation data\n",
    "svm = SVC(kernel='rbf') # linear - 0.4224\n",
    "svm.fit(X_train, y_train)\n",
    "\n",
    "val_preds = svm.predict(X_val)\n",
    "print(\"Validation Accuracy:\", accuracy_score(y_val, val_preds))\n"
   ]
  },
  {
   "cell_type": "code",
   "execution_count": 6,
   "id": "e33c2358",
   "metadata": {},
   "outputs": [],
   "source": [
    "# Optional: load test set and make predictions\n",
    "test_df = pd.read_csv(\"../data/test.csv\")\n",
    "test_df[\"image_id\"] = test_df[\"image_id\"].apply(lambda x: os.path.join(\"../data/test\", f\"{x}.png\"))\n",
    "\n",
    "X_test = np.array([load_and_flatten(p) for p in test_df[\"image_id\"]])\n",
    "preds = svm.predict(X_test)\n",
    "\n",
    "# Save predictions to CSV\n",
    "submission = pd.DataFrame({\n",
    "    \"image_id\": test_df[\"image_id\"].apply(lambda x: os.path.splitext(os.path.basename(x))[0]),\n",
    "    \"label\": preds\n",
    "})\n",
    "submission.to_csv(\"submission_svm.csv\", index=False)\n",
    "\n"
   ]
  }
 ],
 "metadata": {
  "kernelspec": {
   "display_name": "Python 3",
   "language": "python",
   "name": "python3"
  },
  "language_info": {
   "codemirror_mode": {
    "name": "ipython",
    "version": 3
   },
   "file_extension": ".py",
   "mimetype": "text/x-python",
   "name": "python",
   "nbconvert_exporter": "python",
   "pygments_lexer": "ipython3",
   "version": "3.12.0"
  }
 },
 "nbformat": 4,
 "nbformat_minor": 5
}
